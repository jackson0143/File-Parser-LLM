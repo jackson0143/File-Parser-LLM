{
 "cells": [
  {
   "cell_type": "code",
   "execution_count": 13,
   "metadata": {},
   "outputs": [
    {
     "name": "stderr",
     "output_type": "stream",
     "text": [
      "WARNING: You are using pip version 21.2.4; however, version 25.1.1 is available.\n",
      "You should consider upgrading via the 'C:\\Users\\Eunha\\Documents\\Personal work\\File-Parser-Llamaparse\\myenv\\Scripts\\python.exe -m pip install --upgrade pip' command.\n",
      "WARNING: You are using pip version 21.2.4; however, version 25.1.1 is available.\n",
      "You should consider upgrading via the 'C:\\Users\\Eunha\\Documents\\Personal work\\File-Parser-Llamaparse\\myenv\\Scripts\\python.exe -m pip install --upgrade pip' command.\n"
     ]
    }
   ],
   "source": [
    "!pip install --upgrade --quiet langchain langchain-community langchain-openai \"langchain-chroma>=0.1.2\"\n",
    "!pip install --upgrade --quiet pypdf pandas python-dotenv "
   ]
  },
  {
   "cell_type": "code",
   "execution_count": null,
   "metadata": {},
   "outputs": [],
   "source": [
    "from langchain.document_loaders import PyPDFLoader\n",
    "from langchain.text_splitter import RecursiveCharacterTextSplitter\n",
    "from langchain_openai import OpenAIEmbeddings\n",
    "from langchain_chroma import Chroma\n",
    "from langchain.chains import RetrievalQA\n",
    "from langchain_openai import ChatOpenAI\n",
    "from langchain.prompts import ChatPromptTemplate\n",
    "from langchain_core.runnables import RunnablePassthrough\n",
    "import os\n",
    "import pandas as pd\n",
    "from dotenv import load_dotenv\n",
    "from langchain_core.pydantic_v1 import BaseModel, Field\n",
    "load_dotenv()\n",
    "\n",
    "OPENAI_API_KEY = os.getenv(\"OPENAI_API_KEY\")\n",
    "\n",
    "llm = ChatOpenAI(\n",
    "    model=\"gpt-4o-mini\",\n",
    "    openai_api_key=OPENAI_API_KEY,\n",
    ")\n"
   ]
  },
  {
   "cell_type": "markdown",
   "metadata": {},
   "source": [
    "## Load "
   ]
  },
  {
   "cell_type": "code",
   "execution_count": 4,
   "metadata": {},
   "outputs": [
    {
     "data": {
      "text/plain": [
       "[Document(metadata={'producer': 'Skia/PDF m132', 'creator': 'Mozilla/5.0 (Macintosh; Intel Mac OS X 10_15_7) AppleWebKit/537.36 (KHTML, like Gecko) Chrome/132.0.0.0 Safari/537.36', 'creationdate': '2025-01-31T00:25:32+00:00', 'title': 'Fake Resume: Sarah Chen - Google Docs', 'moddate': '2025-01-31T00:25:32+00:00', 'source': 'fake_resume.pdf', 'total_pages': 3, 'page': 0, 'page_label': '1'}, page_content=\"Sarah Chen \\n Full Stack Web Developer \\n Email:  sarah.chen@email.com \\n LinkedIn:  linkedin.com/in/sarahchen \\n GitHub:  github.com/sarahcodes \\n Portfolio: sarahchen.dev \\n Location: San Francisco, CA \\n Professional Summary \\n Innovative Full Stack Web Developer with 6+ years of experience crafting scalable web  applications and microservices. Specialized in React, Node.js, and cloud architecture. Proven  track record of leading technical teams and implementing CI/CD pipelines that reduced  deployment time by 40%. Passionate about clean code, accessibility, and mentoring junior  developers. \\n Professional Experience \\n Senior Full Stack Developer \\n TechFlow Solutions  | San Francisco, CA  January 2022  - Present \\n ●  Architected and implemented a microservices-based  e-commerce platform serving 100K+ daily users  ●  Led a team of 5 developers in rebuilding the company's  flagship product using React and Node.js  ●  Implemented GraphQL API gateway that reduced API  response times by 60%  ●  Established coding standards and review processes that  improved code quality by 45% \\n Technical Skills \\n Frontend: \\n ●  React.js, Redux, Next.js, TypeScript  ●  Vue.js, Nuxt.js  ●  HTML5, CSS3, SASS/SCSS  ●  Jest, React Testing Library  ●  WebPack, Babel \\n Backend: \\n ●  Node.js, Express.js  ●  Python, Django  ●  GraphQL, REST APIs  ●  PostgreSQL, MongoDB\"),\n",
       " Document(metadata={'producer': 'Skia/PDF m132', 'creator': 'Mozilla/5.0 (Macintosh; Intel Mac OS X 10_15_7) AppleWebKit/537.36 (KHTML, like Gecko) Chrome/132.0.0.0 Safari/537.36', 'creationdate': '2025-01-31T00:25:32+00:00', 'title': 'Fake Resume: Sarah Chen - Google Docs', 'moddate': '2025-01-31T00:25:32+00:00', 'source': 'fake_resume.pdf', 'total_pages': 3, 'page': 1, 'page_label': '2'}, page_content='●  Mentored 3 junior developers who were promoted to mid-level  positions \\n Full Stack Developer \\n InnovateSoft  | Oakland, CA  March 2019 - December 2021 \\n ●  Developed and maintained 10+ customer-facing applications  using Vue.js and Django  ●  Implemented automated testing suite that increased code  coverage from 65% to 95%  ●  Optimized database queries resulting in 30% faster page load  times  ●  Collaborated with UX team to implement accessibility features  (WCAG 2.1 compliance)  ●  Created documentation that reduced onboarding time for new  developers by 50% \\n Junior Web Developer \\n StartupHub  | San Jose, CA  June 2017 - February 2019 \\n ●  Built responsive web applications using React.js and  Express.js  ●  Implemented user authentication system using JWT and  OAuth2.0  ●  Contributed to migration of legacy PHP applications to modern  JavaScript stack  ●  Developed RESTful APIs consumed by mobile and web  applications \\n ●  Docker, Kubernetes \\n Tools & Others: \\n ●  AWS (EC2, S3, Lambda)  ●  Git, GitHub Actions  ●  Jenkins, CircleCI  ●  Agile/Scrum methodology  ●  Performance optimization \\n Education \\n Bachelor of Science in Computer Science \\n University of California, Berkeley  2013 - 2017 \\n ●  GPA: 3.8/4.0  ●  Minor in User Experience Design  ●  President of Women in Tech Society'),\n",
       " Document(metadata={'producer': 'Skia/PDF m132', 'creator': 'Mozilla/5.0 (Macintosh; Intel Mac OS X 10_15_7) AppleWebKit/537.36 (KHTML, like Gecko) Chrome/132.0.0.0 Safari/537.36', 'creationdate': '2025-01-31T00:25:32+00:00', 'title': 'Fake Resume: Sarah Chen - Google Docs', 'moddate': '2025-01-31T00:25:32+00:00', 'source': 'fake_resume.pdf', 'total_pages': 3, 'page': 2, 'page_label': '3'}, page_content='Projects \\n EcoTrack | GitHub \\n ●  Built full-stack application for tracking carbon footprint using React, Node.js, and \\n MongoDB \\n ●  Implemented machine learning algorithm for providing personalized sustainability \\n recommendations \\n ●  Featured in TechCrunch\\'s \"Top 10 Environmental Impact Apps of 2023\" \\n ChatFlow | Demo \\n ●  Developed real-time chat application using WebSocket protocol and React \\n ●  Implemented end-to-end encryption and message persistence \\n ●  Serves 5000+ monthly active users \\n Certifications \\n ●  AWS Certified Solutions Architect (2023) \\n ●  Google Cloud Professional Developer (2022) \\n ●  MongoDB Certified Developer (2021) \\n Languages \\n ●  English (Native) \\n ●  Mandarin Chinese (Fluent) \\n ●  Spanish (Intermediate) \\n Interests \\n ●  Open source contribution \\n ●  Tech blogging (15K+ Medium followers) \\n ●  Hackathon mentoring \\n ●  Rock climbing')]"
      ]
     },
     "execution_count": 4,
     "metadata": {},
     "output_type": "execute_result"
    }
   ],
   "source": [
    "loader = PyPDFLoader(\"fake_resume.pdf\")\n",
    "pages = loader.load()\n",
    "pages\n"
   ]
  },
  {
   "cell_type": "markdown",
   "metadata": {},
   "source": [
    "## Split chunk"
   ]
  },
  {
   "cell_type": "code",
   "execution_count": 5,
   "metadata": {},
   "outputs": [
    {
     "data": {
      "text/plain": [
       "[Document(metadata={'producer': 'Skia/PDF m132', 'creator': 'Mozilla/5.0 (Macintosh; Intel Mac OS X 10_15_7) AppleWebKit/537.36 (KHTML, like Gecko) Chrome/132.0.0.0 Safari/537.36', 'creationdate': '2025-01-31T00:25:32+00:00', 'title': 'Fake Resume: Sarah Chen - Google Docs', 'moddate': '2025-01-31T00:25:32+00:00', 'source': 'fake_resume.pdf', 'total_pages': 3, 'page': 0, 'page_label': '1'}, page_content='Sarah Chen \\n Full Stack Web Developer \\n Email:  sarah.chen@email.com \\n LinkedIn:  linkedin.com/in/sarahchen \\n GitHub:  github.com/sarahcodes \\n Portfolio: sarahchen.dev \\n Location: San Francisco, CA \\n Professional Summary \\n Innovative Full Stack Web Developer with 6+ years of experience crafting scalable web  applications and microservices. Specialized in React, Node.js, and cloud architecture. Proven  track record of leading technical teams and implementing CI/CD pipelines that reduced  deployment time by 40%. Passionate about clean code, accessibility, and mentoring junior  developers. \\n Professional Experience \\n Senior Full Stack Developer \\n TechFlow Solutions  | San Francisco, CA  January 2022  - Present'),\n",
       " Document(metadata={'producer': 'Skia/PDF m132', 'creator': 'Mozilla/5.0 (Macintosh; Intel Mac OS X 10_15_7) AppleWebKit/537.36 (KHTML, like Gecko) Chrome/132.0.0.0 Safari/537.36', 'creationdate': '2025-01-31T00:25:32+00:00', 'title': 'Fake Resume: Sarah Chen - Google Docs', 'moddate': '2025-01-31T00:25:32+00:00', 'source': 'fake_resume.pdf', 'total_pages': 3, 'page': 0, 'page_label': '1'}, page_content=\"Professional Experience \\n Senior Full Stack Developer \\n TechFlow Solutions  | San Francisco, CA  January 2022  - Present \\n ●  Architected and implemented a microservices-based  e-commerce platform serving 100K+ daily users  ●  Led a team of 5 developers in rebuilding the company's  flagship product using React and Node.js  ●  Implemented GraphQL API gateway that reduced API  response times by 60%  ●  Established coding standards and review processes that  improved code quality by 45% \\n Technical Skills \\n Frontend: \\n ●  React.js, Redux, Next.js, TypeScript  ●  Vue.js, Nuxt.js  ●  HTML5, CSS3, SASS/SCSS  ●  Jest, React Testing Library  ●  WebPack, Babel \\n Backend: \\n ●  Node.js, Express.js  ●  Python, Django  ●  GraphQL, REST APIs  ●  PostgreSQL, MongoDB\"),\n",
       " Document(metadata={'producer': 'Skia/PDF m132', 'creator': 'Mozilla/5.0 (Macintosh; Intel Mac OS X 10_15_7) AppleWebKit/537.36 (KHTML, like Gecko) Chrome/132.0.0.0 Safari/537.36', 'creationdate': '2025-01-31T00:25:32+00:00', 'title': 'Fake Resume: Sarah Chen - Google Docs', 'moddate': '2025-01-31T00:25:32+00:00', 'source': 'fake_resume.pdf', 'total_pages': 3, 'page': 1, 'page_label': '2'}, page_content='●  Mentored 3 junior developers who were promoted to mid-level  positions \\n Full Stack Developer \\n InnovateSoft  | Oakland, CA  March 2019 - December 2021 \\n ●  Developed and maintained 10+ customer-facing applications  using Vue.js and Django  ●  Implemented automated testing suite that increased code  coverage from 65% to 95%  ●  Optimized database queries resulting in 30% faster page load  times  ●  Collaborated with UX team to implement accessibility features  (WCAG 2.1 compliance)  ●  Created documentation that reduced onboarding time for new  developers by 50% \\n Junior Web Developer \\n StartupHub  | San Jose, CA  June 2017 - February 2019 \\n ●  Built responsive web applications using React.js and  Express.js  ●  Implemented user authentication system using JWT and  OAuth2.0  ●  Contributed to migration of legacy PHP applications to modern  JavaScript stack  ●  Developed RESTful APIs consumed by mobile and web  applications \\n ●  Docker, Kubernetes \\n Tools & Others:'),\n",
       " Document(metadata={'producer': 'Skia/PDF m132', 'creator': 'Mozilla/5.0 (Macintosh; Intel Mac OS X 10_15_7) AppleWebKit/537.36 (KHTML, like Gecko) Chrome/132.0.0.0 Safari/537.36', 'creationdate': '2025-01-31T00:25:32+00:00', 'title': 'Fake Resume: Sarah Chen - Google Docs', 'moddate': '2025-01-31T00:25:32+00:00', 'source': 'fake_resume.pdf', 'total_pages': 3, 'page': 1, 'page_label': '2'}, page_content='●  Docker, Kubernetes \\n Tools & Others: \\n ●  AWS (EC2, S3, Lambda)  ●  Git, GitHub Actions  ●  Jenkins, CircleCI  ●  Agile/Scrum methodology  ●  Performance optimization \\n Education \\n Bachelor of Science in Computer Science \\n University of California, Berkeley  2013 - 2017 \\n ●  GPA: 3.8/4.0  ●  Minor in User Experience Design  ●  President of Women in Tech Society'),\n",
       " Document(metadata={'producer': 'Skia/PDF m132', 'creator': 'Mozilla/5.0 (Macintosh; Intel Mac OS X 10_15_7) AppleWebKit/537.36 (KHTML, like Gecko) Chrome/132.0.0.0 Safari/537.36', 'creationdate': '2025-01-31T00:25:32+00:00', 'title': 'Fake Resume: Sarah Chen - Google Docs', 'moddate': '2025-01-31T00:25:32+00:00', 'source': 'fake_resume.pdf', 'total_pages': 3, 'page': 2, 'page_label': '3'}, page_content='Projects \\n EcoTrack | GitHub \\n ●  Built full-stack application for tracking carbon footprint using React, Node.js, and \\n MongoDB \\n ●  Implemented machine learning algorithm for providing personalized sustainability \\n recommendations \\n ●  Featured in TechCrunch\\'s \"Top 10 Environmental Impact Apps of 2023\" \\n ChatFlow | Demo \\n ●  Developed real-time chat application using WebSocket protocol and React \\n ●  Implemented end-to-end encryption and message persistence \\n ●  Serves 5000+ monthly active users \\n Certifications \\n ●  AWS Certified Solutions Architect (2023) \\n ●  Google Cloud Professional Developer (2022) \\n ●  MongoDB Certified Developer (2021) \\n Languages \\n ●  English (Native) \\n ●  Mandarin Chinese (Fluent) \\n ●  Spanish (Intermediate) \\n Interests \\n ●  Open source contribution \\n ●  Tech blogging (15K+ Medium followers) \\n ●  Hackathon mentoring \\n ●  Rock climbing')]"
      ]
     },
     "execution_count": 5,
     "metadata": {},
     "output_type": "execute_result"
    }
   ],
   "source": [
    "text_splitter = RecursiveCharacterTextSplitter(chunk_size=1000, chunk_overlap=200)\n",
    "chunks = text_splitter.split_documents(pages)\n",
    "chunks\n"
   ]
  },
  {
   "cell_type": "markdown",
   "metadata": {},
   "source": [
    "## Creating embed func\n"
   ]
  },
  {
   "cell_type": "code",
   "execution_count": 9,
   "metadata": {},
   "outputs": [],
   "source": [
    "def create_text_embedding():\n",
    "    embeddings = OpenAIEmbeddings()\n",
    "    return embeddings\n",
    "\n",
    "embedding_function = create_text_embedding()\n",
    "\n"
   ]
  },
  {
   "cell_type": "markdown",
   "metadata": {},
   "source": [
    "## DB"
   ]
  },
  {
   "cell_type": "code",
   "execution_count": 10,
   "metadata": {},
   "outputs": [],
   "source": [
    "def create_vector_db(chunks, embeddings, persist_directory):\n",
    "    vectorstore = Chroma.from_documents(\n",
    "        documents=chunks,\n",
    "        embedding=embeddings,\n",
    "        persist_directory=persist_directory,\n",
    "    )\n",
    "  \n",
    "    return vectorstore\n",
    "vector_store = create_vector_db(chunks, embedding_function, \"fake_resume_db\")\n"
   ]
  },
  {
   "cell_type": "markdown",
   "metadata": {},
   "source": [
    "## Quwery"
   ]
  },
  {
   "cell_type": "code",
   "execution_count": 14,
   "metadata": {},
   "outputs": [],
   "source": [
    "vectorstore = Chroma(\n",
    "    persist_directory=\"fake_resume_db\",\n",
    "    embedding_function=embedding_function\n",
    ")\n",
    "\n",
    "## Create the retriever\n",
    "retriever = vectorstore.as_retriever(search_type=\"similarity\")\n",
    "\n",
    "#This grabs the most relevant chunks based on the question\n",
    "relevant_chunks = retriever.invoke(\"What is the first name in the resume?\")\n",
    "\n",
    "\n"
   ]
  },
  {
   "cell_type": "markdown",
   "metadata": {},
   "source": [
    "## Template"
   ]
  },
  {
   "cell_type": "code",
   "execution_count": 15,
   "metadata": {},
   "outputs": [
    {
     "name": "stdout",
     "output_type": "stream",
     "text": [
      "Human: \n",
      "You are a helpful assistant that can answer questions about the provided resume.\n",
      "Use the following pieces of retrieved context to answer the question. If you don't have enough information or don't know the answer, just say \"N/A\".\n",
      "Sarah Chen \n",
      " Full Stack Web Developer \n",
      " Email:  sarah.chen@email.com \n",
      " LinkedIn:  linkedin.com/in/sarahchen \n",
      " GitHub:  github.com/sarahcodes \n",
      " Portfolio: sarahchen.dev \n",
      " Location: San Francisco, CA \n",
      " Professional Summary \n",
      " Innovative Full Stack Web Developer with 6+ years of experience crafting scalable web  applications and microservices. Specialized in React, Node.js, and cloud architecture. Proven  track record of leading technical teams and implementing CI/CD pipelines that reduced  deployment time by 40%. Passionate about clean code, accessibility, and mentoring junior  developers. \n",
      " Professional Experience \n",
      " Senior Full Stack Developer \n",
      " TechFlow Solutions  | San Francisco, CA  January 2022  - Present\n",
      "\n",
      " \n",
      "\n",
      "Sarah Chen \n",
      " Full Stack Web Developer \n",
      " Email:  sarah.chen@email.com \n",
      " LinkedIn:  linkedin.com/in/sarahchen \n",
      " GitHub:  github.com/sarahcodes \n",
      " Portfolio: sarahchen.dev \n",
      " Location: San Francisco, CA \n",
      " Professional Summary \n",
      " Innovative Full Stack Web Developer with 6+ years of experience crafting scalable web  applications and microservices. Specialized in React, Node.js, and cloud architecture. Proven  track record of leading technical teams and implementing CI/CD pipelines that reduced  deployment time by 40%. Passionate about clean code, accessibility, and mentoring junior  developers. \n",
      " Professional Experience \n",
      " Senior Full Stack Developer \n",
      " TechFlow Solutions  | San Francisco, CA  January 2022  - Present\n",
      "\n",
      " \n",
      "\n",
      "Sarah Chen \n",
      " Full Stack Web Developer \n",
      " Email:  sarah.chen@email.com \n",
      " LinkedIn:  linkedin.com/in/sarahchen \n",
      " GitHub:  github.com/sarahcodes \n",
      " Portfolio: sarahchen.dev \n",
      " Location: San Francisco, CA \n",
      " Professional Summary \n",
      " Innovative Full Stack Web Developer with 6+ years of experience crafting scalable web  applications and microservices. Specialized in React, Node.js, and cloud architecture. Proven  track record of leading technical teams and implementing CI/CD pipelines that reduced  deployment time by 40%. Passionate about clean code, accessibility, and mentoring junior  developers. \n",
      " Professional Experience \n",
      " Senior Full Stack Developer \n",
      " TechFlow Solutions  | San Francisco, CA  January 2022  - Present\n",
      "\n",
      " \n",
      "\n",
      "Sarah Chen \n",
      " Full Stack Web Developer \n",
      " Email:  sarah.chen@email.com \n",
      " LinkedIn:  linkedin.com/in/sarahchen \n",
      " GitHub:  github.com/sarahcodes \n",
      " Portfolio: sarahchen.dev \n",
      " Location: San Francisco, CA \n",
      " Professional Summary \n",
      " Innovative Full Stack Web Developer with 6+ years of experience crafting scalable web  applications and microservices. Specialized in React, Node.js, and cloud architecture. Proven  track record of leading technical teams and implementing CI/CD pipelines that reduced  deployment time by 40%. Passionate about clean code, accessibility, and mentoring junior  developers. \n",
      " Professional Experience \n",
      " Senior Full Stack Developer \n",
      " TechFlow Solutions  | San Francisco, CA  January 2022  - Present\n",
      "___\n",
      "\n",
      "Answer the following question based on the context provided.\n",
      "Question: What is the first name in the resume?\n",
      "\n"
     ]
    },
    {
     "data": {
      "text/plain": [
       "AIMessage(content='The first name in the resume is Sarah.', additional_kwargs={'refusal': None}, response_metadata={'token_usage': {'completion_tokens': 10, 'prompt_tokens': 681, 'total_tokens': 691, 'completion_tokens_details': {'accepted_prediction_tokens': 0, 'audio_tokens': 0, 'reasoning_tokens': 0, 'rejected_prediction_tokens': 0}, 'prompt_tokens_details': {'audio_tokens': 0, 'cached_tokens': 0}}, 'model_name': 'gpt-4o-mini-2024-07-18', 'system_fingerprint': 'fp_0392822090', 'id': 'chatcmpl-BVyfkr9cIFzTPmK9aPKzxcXx1HpP6', 'service_tier': 'default', 'finish_reason': 'stop', 'logprobs': None}, id='run--323d2960-2385-4a00-905f-e3375c71db84-0', usage_metadata={'input_tokens': 681, 'output_tokens': 10, 'total_tokens': 691, 'input_token_details': {'audio': 0, 'cache_read': 0}, 'output_token_details': {'audio': 0, 'reasoning': 0}})"
      ]
     },
     "execution_count": 15,
     "metadata": {},
     "output_type": "execute_result"
    }
   ],
   "source": [
    "PROMPT_TEMPLATE = \"\"\"\n",
    "You are a helpful assistant that can answer questions about the provided resume.\n",
    "Use the following pieces of retrieved context to answer the question. If you don't have enough information or don't know the answer, just say \"N/A\".\n",
    "{context}\n",
    "___\n",
    "\n",
    "Answer the following question based on the context provided.\n",
    "Question: {question}\n",
    "\"\"\"\n",
    "\n",
    "\n",
    "context_text = \"\\n\\n \\n\\n\".join([doc.page_content for doc in relevant_chunks])\n",
    "\n",
    "prompt_template = ChatPromptTemplate.from_template(PROMPT_TEMPLATE)\n",
    "prompt = prompt_template.format(context=context_text, question=\"What is the first name in the resume?\")\n",
    "\n",
    "print(prompt)\n",
    "llm.invoke(prompt)\n"
   ]
  },
  {
   "cell_type": "code",
   "execution_count": 19,
   "metadata": {},
   "outputs": [],
   "source": [
    "def format_document(document):\n",
    "    return \"\\n\\n\".join([doc.page_content for doc in document])"
   ]
  },
  {
   "cell_type": "code",
   "execution_count": 17,
   "metadata": {},
   "outputs": [],
   "source": [
    "# def format_document(document):\n",
    "#     return \"\\n\\n\".join([doc.page_content for doc in document])\n",
    "\n",
    "\n",
    "\n",
    "# rag_chain = (\n",
    "#     {\"context\": retriever | format_document, \"question\": RunnablePassthrough()}\n",
    "#     | prompt_template\n",
    "#     | llm.with_str\n",
    "# )\n",
    "\n",
    "#ignore this "
   ]
  },
  {
   "cell_type": "markdown",
   "metadata": {},
   "source": [
    "## Use pydantic to format neatly"
   ]
  },
  {
   "cell_type": "code",
   "execution_count": 20,
   "metadata": {},
   "outputs": [],
   "source": [
    "class Resume(BaseModel):\n",
    "    first_name: str = Field(description=\"The first name of the candidate\")\n",
    "    last_name: str = Field(description=\"The last name of the candidate\")\n",
    "    email: str = Field(description=\"The email of the candidate\")\n",
    "    phone: str = Field(description=\"The phone number of the candidate\")\n",
    "    linkedin: str = Field(description=\"The linkedin profile of the candidate\")\n",
    "    github: str = Field(description=\"The github profile of the candidate\")\n",
    "    website: str = Field(description=\"The website of the candidate\")   \n",
    "\n",
    "    technical_skills: list[str]\n",
    "    \n",
    "    \n"
   ]
  },
  {
   "cell_type": "code",
   "execution_count": 21,
   "metadata": {},
   "outputs": [
    {
     "name": "stderr",
     "output_type": "stream",
     "text": [
      "c:\\Users\\Eunha\\Documents\\Personal work\\File-Parser-Llamaparse\\myenv\\lib\\site-packages\\langchain_openai\\chat_models\\base.py:1630: UserWarning: Received a Pydantic BaseModel V1 schema. This is not supported by method=\"json_schema\". Please use method=\"function_calling\" or specify schema via JSON Schema or Pydantic V2 BaseModel. Overriding to method=\"function_calling\".\n",
      "  warnings.warn(\n"
     ]
    }
   ],
   "source": [
    "rag_chain = (\n",
    "    {\"context\": retriever | format_document, \"question\": RunnablePassthrough()}\n",
    "    | prompt_template\n",
    "    | llm.with_structured_output(Resume, strict=True)\n",
    ")\n",
    "\n",
    "structured = rag_chain.invoke(\"Give me the first name, last name, email, and technical skills of the candidate (frontend and backend)\")\n"
   ]
  },
  {
   "cell_type": "markdown",
   "metadata": {},
   "source": [
    "## Pandas DF"
   ]
  },
  {
   "cell_type": "code",
   "execution_count": 22,
   "metadata": {},
   "outputs": [
    {
     "data": {
      "text/html": [
       "<div>\n",
       "<style scoped>\n",
       "    .dataframe tbody tr th:only-of-type {\n",
       "        vertical-align: middle;\n",
       "    }\n",
       "\n",
       "    .dataframe tbody tr th {\n",
       "        vertical-align: top;\n",
       "    }\n",
       "\n",
       "    .dataframe thead th {\n",
       "        text-align: right;\n",
       "    }\n",
       "</style>\n",
       "<table border=\"1\" class=\"dataframe\">\n",
       "  <thead>\n",
       "    <tr style=\"text-align: right;\">\n",
       "      <th></th>\n",
       "      <th>first_name</th>\n",
       "      <th>last_name</th>\n",
       "      <th>email</th>\n",
       "      <th>phone</th>\n",
       "      <th>linkedin</th>\n",
       "      <th>github</th>\n",
       "      <th>website</th>\n",
       "      <th>technical_skills</th>\n",
       "    </tr>\n",
       "  </thead>\n",
       "  <tbody>\n",
       "    <tr>\n",
       "      <th>resume 1</th>\n",
       "      <td>Sarah</td>\n",
       "      <td>Chen</td>\n",
       "      <td>sarah.chen@email.com</td>\n",
       "      <td></td>\n",
       "      <td>linkedin.com/in/sarahchen</td>\n",
       "      <td>github.com/sarahcodes</td>\n",
       "      <td>sarahchen.dev</td>\n",
       "      <td>[React, Node.js, cloud architecture]</td>\n",
       "    </tr>\n",
       "  </tbody>\n",
       "</table>\n",
       "</div>"
      ],
      "text/plain": [
       "         first_name last_name                 email phone  \\\n",
       "resume 1      Sarah      Chen  sarah.chen@email.com         \n",
       "\n",
       "                           linkedin                 github        website  \\\n",
       "resume 1  linkedin.com/in/sarahchen  github.com/sarahcodes  sarahchen.dev   \n",
       "\n",
       "                              technical_skills  \n",
       "resume 1  [React, Node.js, cloud architecture]  "
      ]
     },
     "execution_count": 22,
     "metadata": {},
     "output_type": "execute_result"
    }
   ],
   "source": [
    "\n",
    "df = pd.DataFrame([structured.dict()], index=[\"resume 1\"])\n",
    "df\n"
   ]
  }
 ],
 "metadata": {
  "kernelspec": {
   "display_name": "myenv",
   "language": "python",
   "name": "python3"
  },
  "language_info": {
   "codemirror_mode": {
    "name": "ipython",
    "version": 3
   },
   "file_extension": ".py",
   "mimetype": "text/x-python",
   "name": "python",
   "nbconvert_exporter": "python",
   "pygments_lexer": "ipython3",
   "version": "3.10.1"
  }
 },
 "nbformat": 4,
 "nbformat_minor": 2
}
